{
 "cells": [
  {
   "cell_type": "markdown",
   "metadata": {},
   "source": [
    "# Assignment No 9"
   ]
  },
  {
   "cell_type": "code",
   "execution_count": null,
   "metadata": {},
   "outputs": [],
   "source": []
  },
  {
   "cell_type": "markdown",
   "metadata": {},
   "source": [
    "Q1. In Python 3.X, what are the names and functions of string object types?"
   ]
  },
  {
   "cell_type": "code",
   "execution_count": null,
   "metadata": {},
   "outputs": [],
   "source": []
  },
  {
   "cell_type": "markdown",
   "metadata": {},
   "source": [
    "-capitalize()\tConverts the first character to upper case\n",
    "-casefold()\tConverts string into lower case\n",
    "-center()\tReturns a centered string\n",
    "-count()\tReturns the number of times a specified value occurs in a string\n",
    "-encode()\tReturns an encoded version of the string\n",
    "-endswith()\tReturns true if the string ends with the specified value\n",
    "-expandtabs()\tSets the tab size of the string\n",
    "-find()\tSearches the string for a specified value and returns the position of where it was found\n",
    "-format()\tFormats specified values in a string\n",
    "-format_map()\tFormats specified values in a string\n",
    "-index()\tSearches the string for a specified value and returns the position of where it was found\n",
    "-isalnum()\tReturns True if all characters in the string are alphanumeric\n",
    "-isalpha()\tReturns True if all characters in the string are in the alphabet\n",
    "-isascii()\tReturns True if all characters in the string are ascii characters\n",
    "-isdecimal()\tReturns True if all characters in the string are decimals\n",
    "-isdigit()\tReturns True if all characters in the string are digits\n",
    "-isidentifier()\tReturns True if the string is an identifier\n",
    "-islower()\tReturns True if all characters in the string are lower case\n",
    "-isnumeric()\tReturns True if all characters in the string are numeric\n",
    "-isprintable()\tReturns True if all characters in the string are printable\n",
    "-isspace()\tReturns True if all characters in the string are whitespaces\n",
    "-istitle()\tReturns True if the string follows the rules of a title\n",
    "-isupper()\tReturns True if all characters in the string are upper case\n",
    "-join()\tConverts the elements of an iterable into a string\n",
    "-ljust()\tReturns a left justified version of the string\n",
    "-lower()\tConverts a string into lower case\n",
    "-lstrip()\tReturns a left trim version of the string\n",
    "-maketrans()\tReturns a translation table to be used in translations\n",
    "-partition()\tReturns a tuple where the string is parted into three parts\n",
    "-replace()\tReturns a string where a specified value is replaced with a specified value\n",
    "-rfind()\tSearches the string for a specified value and returns the last position of where it was found\n",
    "-rindex()\tSearches the string for a specified value and returns the last position of where it was found\n",
    "-rjust()\tReturns a right justified version of the string\n",
    "-rpartition()\tReturns a tuple where the string is parted into three parts\n",
    "-rsplit()\tSplits the string at the specified separator, and returns a list\n",
    "-rstrip()\tReturns a right trim version of the string\n",
    "-split()\tSplits the string at the specified separator, and returns a list\n",
    "-splitlines()\tSplits the string at line breaks and returns a list\n",
    "-startswith()\tReturns true if the string starts with the specified value\n",
    "-strip()\tReturns a trimmed version of the string\n",
    "-swapcase()\tSwaps cases, lower case becomes upper case and vice versa\n",
    "-title()\tConverts the first character of each word to upper case\n",
    "-translate()\tReturns a translated string\n",
    "-upper()\tConverts a string into upper case\n",
    "-zfill()\tFills the string with a specified number of 0 values at the beginning"
   ]
  },
  {
   "cell_type": "markdown",
   "metadata": {},
   "source": [
    "Q2. How do the string forms in Python 3.X vary in terms of operations?"
   ]
  },
  {
   "cell_type": "code",
   "execution_count": null,
   "metadata": {},
   "outputs": [],
   "source": []
  },
  {
   "cell_type": "markdown",
   "metadata": {},
   "source": [
    "In Python3.X default format of strings is Unicode Whereas in Pyton2 we need to explicitly mention Unicode value using u"
   ]
  },
  {
   "cell_type": "markdown",
   "metadata": {},
   "source": [
    "Q3. In 3.X, how do you put non-ASCII Unicode characters in a string?"
   ]
  },
  {
   "cell_type": "code",
   "execution_count": null,
   "metadata": {},
   "outputs": [],
   "source": []
  },
  {
   "cell_type": "code",
   "execution_count": 2,
   "metadata": {},
   "outputs": [
    {
     "name": "stdout",
     "output_type": "stream",
     "text": [
      "Collecting unidecode\n",
      "  Downloading https://files.pythonhosted.org/packages/f9/5b/7603add7f192252916b85927263b598c74585f82389e6e42318a6278159b/Unidecode-1.3.4-py3-none-any.whl (235kB)\n",
      "Installing collected packages: unidecode\n",
      "Successfully installed unidecode-1.3.4\n",
      "Note: you may need to restart the kernel to use updated packages.\n"
     ]
    }
   ],
   "source": [
    "pip install unidecode"
   ]
  },
  {
   "cell_type": "markdown",
   "metadata": {},
   "source": [
    "- The function unidecode() takes Unicode data and tries to represent it in ASCII characters "
   ]
  },
  {
   "cell_type": "code",
   "execution_count": 7,
   "metadata": {},
   "outputs": [
    {
     "name": "stdout",
     "output_type": "stream",
     "text": [
      "kozuscek\n",
      "30 km/h\n",
      "9 Ding \n"
     ]
    }
   ],
   "source": [
    "from unidecode import unidecode\n",
    "print(unidecode('kožušček'))\n",
    "print(unidecode('30 \\U0001d5c4\\U0001d5c6/\\U0001d5c1'))\n",
    "print(unidecode('\\u34839 \\u5EB0'))\n"
   ]
  },
  {
   "cell_type": "markdown",
   "metadata": {},
   "source": [
    "Q4. In Python 3.X, what are the key differences between text-mode and binary-mode files?"
   ]
  },
  {
   "cell_type": "code",
   "execution_count": null,
   "metadata": {},
   "outputs": [],
   "source": []
  },
  {
   "cell_type": "markdown",
   "metadata": {},
   "source": [
    "- Text files and binary files are two types of files where binary files store data in a binary format and text file store data in a alphabet,numbers format. Binary files has a extension .bin whereas Text file has extension .txt\n",
    "- Binary files typically contain a sequence of bytes, or ordered groupings of eight bits. When creating a custom file format for a program, a developer arranges these bytes into a format that stores the necessary information for the application. Binary file formats may include multiple types of data in the same file, such as image, video, and audio data. This data can be interpreted by supporting programs, but will show up as garbled text in a text editor. Below is an example of a .PNG image file opened in an image viewer and a text editor.\n",
    "Image Viewer     Text Editor\n"
   ]
  },
  {
   "cell_type": "markdown",
   "metadata": {},
   "source": [
    "Q5. How can you interpret a Unicode text file containing text encoded in a different encoding than your platform's default?"
   ]
  },
  {
   "cell_type": "code",
   "execution_count": null,
   "metadata": {},
   "outputs": [],
   "source": []
  },
  {
   "cell_type": "markdown",
   "metadata": {},
   "source": [
    "- We can user encode() and decode() methods to interpret a unicode text file containing text encoded in a different encoding than platforms default."
   ]
  },
  {
   "cell_type": "markdown",
   "metadata": {},
   "source": [
    "Q6. What is the best way to make a Unicode text file in a particular encoding format?"
   ]
  },
  {
   "cell_type": "code",
   "execution_count": null,
   "metadata": {},
   "outputs": [],
   "source": []
  },
  {
   "cell_type": "code",
   "execution_count": 9,
   "metadata": {},
   "outputs": [
    {
     "name": "stdout",
     "output_type": "stream",
     "text": [
      "b'\\xd1\\x83\\xd0\\xbb\\xd1\\x8b\\xd0\\xb1\\xd0\\xb0\\xd1\\x82\\xd1\\x8c\\xd1\\x81\\xd1\\x8f \\xd0\\x92\\xd0\\xbb\\xd0\\xb0\\xd0\\xb4\\xd0\\xb8\\xd0\\xbc\\xd0\\xb8\\xd1\\x80 \\xd0\\x9f\\xd1\\x83\\xd1\\x82\\xd0\\xb8\\xd0\\xbd'\n",
      "\n",
      "b'\\xd1\\x83\\xd0\\xbb\\xd1\\x8b\\xd0\\xb1\\xd0\\xb0\\xd1\\x82\\xd1\\x8c\\xd1\\x81\\xd1\\x8f \\xd0\\x92\\xd0\\xbb\\xd0\\xb0\\xd0\\xb4\\xd0\\xb8\\xd0\\xbc\\xd0\\xb8\\xd1\\x80 \\xd0\\x9f\\xd1\\x83\\xd1\\x82\\xd0\\xb8\\xd0\\xbd'\n"
     ]
    }
   ],
   "source": [
    "unicode_text = u\"улыбаться Владимир Путин\" # text to be encode\n",
    "encoded_unicode_text = unicode_text.encode(\"utf-8\")\n",
    "print(encoded_unicode_text,end=\"\\n\\n\") # print encoded text\n",
    "\n",
    "w_file = open(\"w_file.txt\",\"wb\")   # open file in wb mode\n",
    "w_file.write(encoded_unicode_text) # write unicode text in file\n",
    "w_file.close() # close the file\n",
    "\n",
    "r_file = open(\"w_file.txt\",\"rb\")\n",
    "data = r_file.read() # read the data from file\n",
    "print(data)"
   ]
  },
  {
   "cell_type": "markdown",
   "metadata": {},
   "source": [
    "Q7. What qualifies ASCII text as a form of Unicode text?"
   ]
  },
  {
   "cell_type": "code",
   "execution_count": null,
   "metadata": {},
   "outputs": [],
   "source": []
  },
  {
   "cell_type": "markdown",
   "metadata": {},
   "source": [
    "- Unicode represents most written languages in the world. ASCII has its equivalent in Unicode. The difference between ASCII and Unicode is that ASCII represents lowercase letters (a-z), uppercase letters (A-Z), digits (0–9) and symbols such as punctuation marks while Unicode represents letters of English, Arabic, Greek etc. mathematical symbols, historical scripts, emoji covering a wide range of characters than ASCII."
   ]
  },
  {
   "cell_type": "markdown",
   "metadata": {},
   "source": [
    "Q8. How much of an effect does the change in string types in Python 3.X have on your code?"
   ]
  },
  {
   "cell_type": "code",
   "execution_count": null,
   "metadata": {},
   "outputs": [],
   "source": []
  },
  {
   "cell_type": "markdown",
   "metadata": {},
   "source": [
    "- Python 3 stores strings as Unicode by default whereas Python 2 requires you to mark a string with a u if you want to store it as Unicode. Unicode strings are more versatile than ASCII strings, which are the Python 3.X default, as they can store letters from foreign languages as well as emoji and the standard Roman letters and numerals."
   ]
  }
 ],
 "metadata": {
  "kernelspec": {
   "display_name": "Python 3",
   "language": "python",
   "name": "python3"
  },
  "language_info": {
   "codemirror_mode": {
    "name": "ipython",
    "version": 3
   },
   "file_extension": ".py",
   "mimetype": "text/x-python",
   "name": "python",
   "nbconvert_exporter": "python",
   "pygments_lexer": "ipython3",
   "version": "3.7.1"
  }
 },
 "nbformat": 4,
 "nbformat_minor": 2
}
